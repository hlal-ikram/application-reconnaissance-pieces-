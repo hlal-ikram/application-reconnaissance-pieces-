{
 "cells": [
  {
   "cell_type": "code",
   "execution_count": 1,
   "id": "5b439297",
   "metadata": {},
   "outputs": [
    {
     "name": "stdout",
     "output_type": "stream",
     "text": [
      "Accuracy du modèle KNN: 0.33201581027667987\n"
     ]
    },
    {
     "data": {
      "text/plain": [
       "['modele_knn.pkl']"
      ]
     },
     "execution_count": 1,
     "metadata": {},
     "output_type": "execute_result"
    }
   ],
   "source": [
    "#Hbaly Hanane\n",
    "# Importer les bibliothèques nécessaires\n",
    "import numpy as np\n",
    "from sklearn.model_selection import train_test_split\n",
    "from sklearn.neighbors import KNeighborsClassifier\n",
    "from sklearn.metrics import accuracy_score\n",
    "import joblib\n",
    "\n",
    "# Charger les vecteurs de caractéristiques et les étiquettes\n",
    "donnees_entrain = np.load('vecteurs_caracteristiques.npz')\n",
    "donnes_test = np.load('vecteurs_caracteristiques_test.npz')\n",
    "etiquettes_entrain = list(donnees_entrain.keys())  # Les clés sont les noms de classe\n",
    "vecteurs_caracteristiques_par_classe = {classe: donnees_entrain[classe] for classe in etiquettes_entrain if classe != 'arr_0'}\n",
    "\n",
    "# Créer une liste pour les vecteurs de caractéristiques et les étiquettes\n",
    "vecteurs_caracteristiques = []\n",
    "etiquettes = []\n",
    "\n",
    "# Parcourir les classes et leurs vecteurs de caractéristiques\n",
    "for classe, vecteurs in vecteurs_caracteristiques_par_classe.items():\n",
    "    vecteurs_caracteristiques.extend(vecteurs)\n",
    "    etiquettes.extend([classe] * len(vecteurs))\n",
    "\n",
    "# Convertir en tableaux numpy\n",
    "vecteurs_caracteristiques = np.array(vecteurs_caracteristiques)\n",
    "etiquettes = np.array(etiquettes)\n",
    "\n",
    "# Diviser les données en ensembles d'entraînement et de test\n",
    "X_train, X_test, y_train, y_test = train_test_split(vecteurs_caracteristiques, etiquettes, test_size=0.2, random_state=42)\n",
    "\n",
    "# Créer et entraîner un modèle KNN avec k=5 voisins\n",
    "modele_knn = KNeighborsClassifier(n_neighbors=5)\n",
    "modele_knn.fit(X_train, y_train)\n",
    "\n",
    "# Faire des prédictions sur l'ensemble de test\n",
    "predictions = modele_knn.predict(X_test)\n",
    "\n",
    "# Calculer l'accuracy du modèle\n",
    "accuracy = accuracy_score(y_test, predictions)\n",
    "print(\"Accuracy du modèle KNN:\", accuracy)\n",
    "\n",
    "# Sauvegarder le modèle KNN pour une utilisation ultérieure\n",
    "joblib.dump(modele_knn, 'modele_knn.pkl')\n"
   ]
  },
  {
   "cell_type": "code",
   "execution_count": null,
   "id": "f1364686",
   "metadata": {},
   "outputs": [],
   "source": []
  }
 ],
 "metadata": {
  "kernelspec": {
   "display_name": "Python 3 (ipykernel)",
   "language": "python",
   "name": "python3"
  },
  "language_info": {
   "codemirror_mode": {
    "name": "ipython",
    "version": 3
   },
   "file_extension": ".py",
   "mimetype": "text/x-python",
   "name": "python",
   "nbconvert_exporter": "python",
   "pygments_lexer": "ipython3",
   "version": "3.11.5"
  }
 },
 "nbformat": 4,
 "nbformat_minor": 5
}
