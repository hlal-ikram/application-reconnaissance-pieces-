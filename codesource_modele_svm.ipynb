{
 "cells": [
  {
   "cell_type": "code",
   "execution_count": 4,
   "id": "905e81ff",
   "metadata": {},
   "outputs": [
    {
     "name": "stdout",
     "output_type": "stream",
     "text": [
      "Requirement already satisfied: joblib in c:\\users\\dell\\anaconda3\\lib\\site-packages (1.2.0)\n",
      "Accuracy du modèle SVM: 0.7154150197628458\n"
     ]
    },
    {
     "data": {
      "text/plain": [
       "['modele_svm.pkl']"
      ]
     },
     "execution_count": 4,
     "metadata": {},
     "output_type": "execute_result"
    }
   ],
   "source": [
    "!pip install joblib\n",
    "import numpy as np\n",
    "from sklearn.model_selection import train_test_split\n",
    "from sklearn.svm import SVC\n",
    "from sklearn.metrics import accuracy_score\n",
    "import joblib# Importer joblib à partir de sklearn.externals\n",
    "\n",
    "# Charger les vecteurs de caractéristiques et les étiquettes\n",
    "donnees_entrain = np.load('vecteurs_caracteristiques.npz')\n",
    "donnes_test = np.load('vecteurs_caracteristiques_test.npz')\n",
    "etiquettes_entrain = list(donnees_entrain.keys())  # Les clés sont les noms de classe\n",
    "vecteurs_caracteristiques_par_classe = {classe: donnees_entrain[classe] for classe in etiquettes_entrain if classe != 'arr_0'}\n",
    "\n",
    "# Créer une liste pour les vecteurs de caractéristiques et les étiquettes\n",
    "vecteurs_caracteristiques = []\n",
    "etiquettes = []\n",
    "\n",
    "# Parcourir les classes et leurs vecteurs de caractéristiques\n",
    "for classe, vecteurs in vecteurs_caracteristiques_par_classe.items():\n",
    "    vecteurs_caracteristiques.extend(vecteurs)\n",
    "    etiquettes.extend([classe] * len(vecteurs))\n",
    "\n",
    "# Convertir en tableaux numpy\n",
    "vecteurs_caracteristiques = np.array(vecteurs_caracteristiques)\n",
    "etiquettes = np.array(etiquettes)\n",
    "\n",
    "# Diviser les données en ensembles d'entraînement et de test\n",
    "X_train, X_test, y_train, y_test = train_test_split(vecteurs_caracteristiques, etiquettes, test_size=0.2, random_state=42)\n",
    "\n",
    "# Créer et entraîner un modèle SVM\n",
    "modele_svm = SVC(kernel='linear')\n",
    "modele_svm.fit(X_train, y_train)\n",
    "\n",
    "# Faire des prédictions sur l'ensemble de test\n",
    "predictions = modele_svm.predict(X_test)\n",
    "\n",
    "# Calculer l'accuracy du modèle\n",
    "accuracy = accuracy_score(y_test, predictions)\n",
    "print(\"Accuracy du modèle SVM:\", accuracy)\n",
    "\n",
    "# Sauvegarder le modèle SVM pour une utilisation ultérieure\n",
    "joblib.dump(modele_svm, 'modele_svm.pkl')\n"
   ]
  },
  {
   "cell_type": "code",
   "execution_count": 5,
   "id": "57429a2c",
   "metadata": {},
   "outputs": [
    {
     "name": "stdout",
     "output_type": "stream",
     "text": [
      "Accuracy du modèle de forêts aléatoires: 0.5889328063241107\n"
     ]
    },
    {
     "data": {
      "text/plain": [
       "['modele_foret.pkl']"
      ]
     },
     "execution_count": 5,
     "metadata": {},
     "output_type": "execute_result"
    }
   ],
   "source": [
    "# Importer les bibliothèques nécessaires\n",
    "import numpy as np\n",
    "from sklearn.model_selection import train_test_split\n",
    "from sklearn.ensemble import RandomForestClassifier\n",
    "from sklearn.metrics import accuracy_score\n",
    "import joblib\n",
    "\n",
    "# Charger les vecteurs de caractéristiques et les étiquettes\n",
    "donnees_entrain = np.load('vecteurs_caracteristiques.npz')\n",
    "donnes_test = np.load('vecteurs_caracteristiques_test.npz')\n",
    "etiquettes_entrain = list(donnees_entrain.keys())  # Les clés sont les noms de classe\n",
    "vecteurs_caracteristiques_par_classe = {classe: donnees_entrain[classe] for classe in etiquettes_entrain if classe != 'arr_0'}\n",
    "\n",
    "# Créer une liste pour les vecteurs de caractéristiques et les étiquettes\n",
    "vecteurs_caracteristiques = []\n",
    "etiquettes = []\n",
    "\n",
    "# Parcourir les classes et leurs vecteurs de caractéristiques\n",
    "for classe, vecteurs in vecteurs_caracteristiques_par_classe.items():\n",
    "    vecteurs_caracteristiques.extend(vecteurs)\n",
    "    etiquettes.extend([classe] * len(vecteurs))\n",
    "\n",
    "# Convertir en tableaux numpy\n",
    "vecteurs_caracteristiques = np.array(vecteurs_caracteristiques)\n",
    "etiquettes = np.array(etiquettes)\n",
    "\n",
    "# Diviser les données en ensembles d'entraînement et de test\n",
    "X_train, X_test, y_train, y_test = train_test_split(vecteurs_caracteristiques, etiquettes, test_size=0.2, random_state=42)\n",
    "\n",
    "# Créer et entraîner un modèle de forêts aléatoires\n",
    "modele_foret = RandomForestClassifier(n_estimators=100, random_state=42)\n",
    "modele_foret.fit(X_train, y_train)\n",
    "\n",
    "# Faire des prédictions sur l'ensemble de test\n",
    "predictions = modele_foret.predict(X_test)\n",
    "\n",
    "# Calculer l'accuracy du modèle\n",
    "accuracy = accuracy_score(y_test, predictions)\n",
    "print(\"Accuracy du modèle de forêts aléatoires:\", accuracy)\n",
    "\n",
    "# Sauvegarder le modèle de forêts aléatoires pour une utilisation ultérieure\n",
    "joblib.dump(modele_foret, 'modele_foret.pkl')\n"
   ]
  },
  {
   "cell_type": "code",
   "execution_count": 11,
   "id": "e3a8809f",
   "metadata": {},
   "outputs": [
    {
     "name": "stdout",
     "output_type": "stream",
     "text": [
      "Accuracy du modèle KNN: 0.33201581027667987\n"
     ]
    },
    {
     "data": {
      "text/plain": [
       "['modele_knn.pkl']"
      ]
     },
     "execution_count": 11,
     "metadata": {},
     "output_type": "execute_result"
    }
   ],
   "source": [
    "# Importer les bibliothèques nécessaires\n",
    "import numpy as np\n",
    "from sklearn.model_selection import train_test_split\n",
    "from sklearn.neighbors import KNeighborsClassifier\n",
    "from sklearn.metrics import accuracy_score\n",
    "import joblib\n",
    "\n",
    "# Charger les vecteurs de caractéristiques et les étiquettes\n",
    "donnees_entrain = np.load('vecteurs_caracteristiques.npz')\n",
    "donnes_test = np.load('vecteurs_caracteristiques_test.npz')\n",
    "etiquettes_entrain = list(donnees_entrain.keys())  # Les clés sont les noms de classe\n",
    "vecteurs_caracteristiques_par_classe = {classe: donnees_entrain[classe] for classe in etiquettes_entrain if classe != 'arr_0'}\n",
    "\n",
    "# Créer une liste pour les vecteurs de caractéristiques et les étiquettes\n",
    "vecteurs_caracteristiques = []\n",
    "etiquettes = []\n",
    "\n",
    "# Parcourir les classes et leurs vecteurs de caractéristiques\n",
    "for classe, vecteurs in vecteurs_caracteristiques_par_classe.items():\n",
    "    vecteurs_caracteristiques.extend(vecteurs)\n",
    "    etiquettes.extend([classe] * len(vecteurs))\n",
    "\n",
    "# Convertir en tableaux numpy\n",
    "vecteurs_caracteristiques = np.array(vecteurs_caracteristiques)\n",
    "etiquettes = np.array(etiquettes)\n",
    "\n",
    "# Diviser les données en ensembles d'entraînement et de test\n",
    "X_train, X_test, y_train, y_test = train_test_split(vecteurs_caracteristiques, etiquettes, test_size=0.2, random_state=42)\n",
    "\n",
    "# Créer et entraîner un modèle KNN avec k=5 voisins\n",
    "modele_knn = KNeighborsClassifier(n_neighbors=5)\n",
    "modele_knn.fit(X_train, y_train)\n",
    "\n",
    "# Faire des prédictions sur l'ensemble de test\n",
    "predictions = modele_knn.predict(X_test)\n",
    "\n",
    "# Calculer l'accuracy du modèle\n",
    "accuracy = accuracy_score(y_test, predictions)\n",
    "print(\"Accuracy du modèle KNN:\", accuracy)\n",
    "\n",
    "# Sauvegarder le modèle KNN pour une utilisation ultérieure\n",
    "joblib.dump(modele_knn, 'modele_knn.pkl')\n"
   ]
  },
  {
   "cell_type": "code",
   "execution_count": null,
   "id": "edd87ea1",
   "metadata": {},
   "outputs": [],
   "source": [
    "pip install --upgrade scikit-learn threadpoolctl numpy\n"
   ]
  },
  {
   "cell_type": "code",
   "execution_count": 12,
   "id": "79da6412",
   "metadata": {},
   "outputs": [
    {
     "name": "stdout",
     "output_type": "stream",
     "text": [
      "Accuracy du modèle d'arbre de décision: 0.2450592885375494\n"
     ]
    },
    {
     "data": {
      "text/plain": [
       "['modele_arbre_decision.pkl']"
      ]
     },
     "execution_count": 12,
     "metadata": {},
     "output_type": "execute_result"
    }
   ],
   "source": [
    "\n",
    "import numpy as np\n",
    "from sklearn.model_selection import train_test_split\n",
    "from sklearn.tree import DecisionTreeClassifier\n",
    "from sklearn.metrics import accuracy_score\n",
    "import joblib\n",
    "\n",
    "# Charger les vecteurs de caractéristiques et les étiquettes\n",
    "donnees_entrain = np.load('vecteurs_caracteristiques.npz')\n",
    "donnes_test = np.load('vecteurs_caracteristiques_test.npz')\n",
    "etiquettes_entrain = list(donnees_entrain.keys())  # Les clés sont les noms de classe\n",
    "vecteurs_caracteristiques_par_classe = {classe: donnees_entrain[classe] for classe in etiquettes_entrain if classe != 'arr_0'}\n",
    "\n",
    "# Créer une liste pour les vecteurs de caractéristiques et les étiquettes\n",
    "vecteurs_caracteristiques = []\n",
    "etiquettes = []\n",
    "\n",
    "# Parcourir les classes et leurs vecteurs de caractéristiques\n",
    "for classe, vecteurs in vecteurs_caracteristiques_par_classe.items():\n",
    "    vecteurs_caracteristiques.extend(vecteurs)\n",
    "    etiquettes.extend([classe] * len(vecteurs))\n",
    "\n",
    "# Convertir en tableaux numpy\n",
    "vecteurs_caracteristiques = np.array(vecteurs_caracteristiques)\n",
    "etiquettes = np.array(etiquettes)\n",
    "\n",
    "# Diviser les données en ensembles d'entraînement et de test\n",
    "X_train, X_test, y_train, y_test = train_test_split(vecteurs_caracteristiques, etiquettes, test_size=0.2, random_state=42)\n",
    "\n",
    "# Créer et entraîner un modèle d'arbre de décision\n",
    "modele_arbre_decision = DecisionTreeClassifier()\n",
    "modele_arbre_decision.fit(X_train, y_train)\n",
    "\n",
    "# Faire des prédictions sur l'ensemble de test\n",
    "predictions = modele_arbre_decision.predict(X_test)\n",
    "\n",
    "# Calculer l'accuracy du modèle\n",
    "accuracy = accuracy_score(y_test, predictions)\n",
    "print(\"Accuracy du modèle d'arbre de décision:\", accuracy)\n",
    "\n",
    "# Sauvegarder le modèle d'arbre de décision pour une utilisation ultérieure\n",
    "joblib.dump(modele_arbre_decision, 'modele_arbre_decision.pkl')"
   ]
  },
  {
   "cell_type": "code",
   "execution_count": null,
   "id": "e8f49c56",
   "metadata": {},
   "outputs": [],
   "source": []
  }
 ],
 "metadata": {
  "kernelspec": {
   "display_name": "Python 3 (ipykernel)",
   "language": "python",
   "name": "python3"
  },
  "language_info": {
   "codemirror_mode": {
    "name": "ipython",
    "version": 3
   },
   "file_extension": ".py",
   "mimetype": "text/x-python",
   "name": "python",
   "nbconvert_exporter": "python",
   "pygments_lexer": "ipython3",
   "version": "3.11.5"
  }
 },
 "nbformat": 4,
 "nbformat_minor": 5
}
